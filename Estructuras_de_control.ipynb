{
 "cells": [
  {
   "cell_type": "markdown",
   "metadata": {},
   "source": [
    "# Estructuras de control \n",
    "Las estructuras de control son como las señales de transito en un programa porque le indican el camino que debe seguir la ejecución del código. Sirven para tomar decisiones, repetir acciones y controlar el flujo del programa en función de ciertas condiciones.\n",
    "\n",
    "- Condicionales: Sirven para tomar decisiones basadas en ciertas condiciones.\n",
    "- Bucles: Permiten repetir un bloque de código varias veces.\n",
    "\n",
    "# if\n",
    "El parametro *if* se usa para ejecutar un bloque de código si una condición es verdadera. Si la condición es falsa ese bloque de código es omitido.\n",
    "\n",
    "# Ejemplo\n",
    "\n",
    "En este ejemplo supondremos que somos los supervisores de un parque de diversiones y la altura minima para entrar a las atracciones es de 1.60, por lo que las personas que tengan una altura > 1.60 podran pasar."
   ]
  },
  {
   "cell_type": "code",
   "execution_count": 8,
   "metadata": {},
   "outputs": [
    {
     "name": "stdout",
     "output_type": "stream",
     "text": [
      "Puede pasar\n"
     ]
    }
   ],
   "source": [
    "altura = 1.60\n",
    "\n",
    "if altura >= 1.60:\n",
    "    print(\"Puede pasar\")  # Esto se ejecuta si la condición es True"
   ]
  },
  {
   "cell_type": "markdown",
   "metadata": {},
   "source": [
    "# else\n",
    "El parametro *else* se utiliza junto con *if* para definir un bloque alternativo de código que se ejecuta si la condición del *if* es falsa."
   ]
  },
  {
   "cell_type": "code",
   "execution_count": null,
   "metadata": {},
   "outputs": [],
   "source": [
    "altura = 1.50\n",
    "\n",
    "if altura >= 1.60:\n",
    "    print(\"Puede pasar\")\n",
    "else:\n",
    "    print(\"No puede pasar\")"
   ]
  },
  {
   "cell_type": "markdown",
   "metadata": {},
   "source": [
    "# elif\n",
    "El parametro *elif* (abreviatura de *else if*) permite verificar múltiples condiciones. Si la condición *if* es falsa, se evaluará la condición de *elif*. Se pueden tener varios bloques *elif* en una misma estructura de control.\n",
    "\n",
    "# Ejemplo \n",
    "\n",
    "Ahora supongamos que tenemos una agencia de compra y venta de vehículos, por lo que tenemos que clasificar los vehiculos por su precio"
   ]
  },
  {
   "cell_type": "code",
   "execution_count": null,
   "metadata": {},
   "outputs": [],
   "source": [
    "precio = 25000000\n",
    "\n",
    "if precio > 80000000:\n",
    "    print(\"alta gama\")\n",
    "elif precio > 40000000:\n",
    "    print(\"gama media\")\n",
    "else:\n",
    "    print(\"gama baja\")"
   ]
  },
  {
   "cell_type": "markdown",
   "metadata": {},
   "source": [
    "# Operadores comparativos y lógicos\n",
    "Las estructuras de control se basan en condiciones que pueden usar operadores comparativos y lógicos.\n",
    "\n",
    "# Operadores Comparativos\n",
    "==: Igual a\n",
    "!=: Diferente de\n",
    ">: Mayor que\n",
    "<: Menor que\n",
    ">=: Mayor o igual a\n",
    "<=: Menor o igual a"
   ]
  },
  {
   "cell_type": "code",
   "execution_count": null,
   "metadata": {},
   "outputs": [],
   "source": [
    "a = 10\n",
    "b = 20\n",
    "\n",
    "if a < b:\n",
    "    print(\"a es menor que b\")\n",
    "    \n",
    "a = 10\n",
    "c = 10\n",
    "\n",
    "if a == c: \n",
    "    print(\"a es igual que c\")\n",
    "    \n",
    "a = 10\n",
    "d = 30\n",
    "\n",
    "if a != d: \n",
    "    print(\"a es diferente de D\")    "
   ]
  },
  {
   "cell_type": "markdown",
   "metadata": {},
   "source": [
    "# Operadores lógicos\n",
    "- and: Todas las condiciones deben ser verdaderas.\n",
    "- or: Al menos una condición debe ser verdadera.\n",
    "- not: Niega la condición (cambia True a False y viceversa).\n",
    "\n",
    "# Ejemplo \n",
    "Para este caso retomaremos el ejemplo del parque de diversiones, pero ahora aparte de tener la altura minima, tambien debe de contar con un acompañante. "
   ]
  },
  {
   "cell_type": "code",
   "execution_count": null,
   "metadata": {},
   "outputs": [],
   "source": [
    "altura = 1.60\n",
    "acompañante = True\n",
    "\n",
    "if altura >= 1.60 and acompañante:\n",
    "    print(\"Puedes entrar\")\n",
    "else:\n",
    "    print(\"No puedes entrar\")\n",
    "\n",
    "altura = 1.60\n",
    "acompañante = False\n",
    "\n",
    "if altura >= 1.60 and acompañante:\n",
    "    print(\"Puedes entrar\")\n",
    "else:\n",
    "    print(\"No puedes entrar\")\n",
    "    \n",
    "    "
   ]
  },
  {
   "cell_type": "markdown",
   "metadata": {},
   "source": [
    "# Estructura completa con *if*, *elif* y *else*\n",
    "El algunos casos es necesario combinar múltiples condiciones utilizando *if*, *elif* y *else* para manejar diferentes casos.\n",
    "\n",
    "# Ejemplo \n",
    "\n",
    "En este caso supondremos que trabajamos para una entidad de salud y tendremos que clasificar a nuestros clientes por su edad según las clasificaciones de la OMS. "
   ]
  },
  {
   "cell_type": "code",
   "execution_count": 25,
   "metadata": {},
   "outputs": [
    {
     "name": "stdout",
     "output_type": "stream",
     "text": [
      "edad media\n"
     ]
    }
   ],
   "source": [
    "edad = 67\n",
    "\n",
    "if edad >= 100:\n",
    "    print(\"mayores de la larga vida\")\n",
    "elif edad >= 80:\n",
    "    print(\"ancianos\")\n",
    "elif edad >= 66:\n",
    "    print(\"edad media\")\n",
    "elif edad >= 18:\n",
    "    print(\"jovenes\")\n",
    "else:\n",
    "    print(\"menores\")"
   ]
  },
  {
   "cell_type": "markdown",
   "metadata": {},
   "source": [
    "# Anidamiento de condicionales\n",
    "Es posible anidar estructuras de control dentro de otras, lo que permite manejar casos más complejos.\n",
    "\n",
    "# Ejemplo \n",
    "En este caso complementaremos el ultimo ejemplo del parque de diversiones."
   ]
  },
  {
   "cell_type": "code",
   "execution_count": null,
   "metadata": {},
   "outputs": [],
   "source": [
    "altura = 1.70 \n",
    "acompañante = False \n",
    "\n",
    "if altura >= 1.60:\n",
    "    if acompañante :\n",
    "        print(\"Puedes entrar\")\n",
    "    else:\n",
    "        print(\"Necesitas conseguir un acompañante\")\n",
    "else:\n",
    "    print(\"No puedes entrar\")"
   ]
  }
 ],
 "metadata": {
  "kernelspec": {
   "display_name": "Python 3",
   "language": "python",
   "name": "python3"
  },
  "language_info": {
   "codemirror_mode": {
    "name": "ipython",
    "version": 3
   },
   "file_extension": ".py",
   "mimetype": "text/x-python",
   "name": "python",
   "nbconvert_exporter": "python",
   "pygments_lexer": "ipython3",
   "version": "3.12.5"
  }
 },
 "nbformat": 4,
 "nbformat_minor": 2
}
