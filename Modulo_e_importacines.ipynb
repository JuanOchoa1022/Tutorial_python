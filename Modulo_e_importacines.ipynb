{
 "cells": [
  {
   "cell_type": "markdown",
   "metadata": {},
   "source": [
    "# Modulos e importaciones\n",
    "Los módulos en Python son como cajas de herramientas que contienen funciones, variables y clases predefinidas que puedes utilizar en tus programas. La importación de módulos te permite acceder y utilizar estas herramientas desde diferentes archivos.\n",
    "\n",
    "Un módulo es simplemente un archivo de Python con la extensión *.py* que contiene código Python. Este código puede definir funcion\n",
    "\n",
    "# Ejemplo\n",
    "Retomaremos el ejemplo de la tienda, en el que suponemos que somos una tienda y queremos automatizar nuestras funciones en un chat. En este ejemplo aparte del saludo le añadiremos la despedida."
   ]
  },
  {
   "cell_type": "code",
   "execution_count": null,
   "metadata": {},
   "outputs": [],
   "source": [
    "# tienda.py\n",
    "\n",
    "def saludo(nombre=\"cliente\"):\n",
    "    print(f\"Hola {nombre}! Bienvenido a nuestra tienda\")\n",
    "\n",
    "def despedida(nombre=\"cliente\"):\n",
    "    print(f\"Adiós {nombre}! Gracias por elegirnos\")"
   ]
  },
  {
   "cell_type": "markdown",
   "metadata": {},
   "source": [
    "# Importar un Módulo\n",
    "Para usar las funciones, variables o clases de un módulo en otro archivo o script de Python, debes importar ese módulo usando la palabra clave *import*.\n",
    "\n",
    "# Ejemplo "
   ]
  },
  {
   "cell_type": "code",
   "execution_count": null,
   "metadata": {},
   "outputs": [],
   "source": [
    "import tienda\n",
    "\n",
    "# Llamar a las funciones del módulo\n",
    "tienda.saludo()\n",
    "tienda.despedida()"
   ]
  },
  {
   "cell_type": "markdown",
   "metadata": {},
   "source": [
    "# Importar Funciones Específicas\n",
    "Si solo necesitas una o varias funciones específicas de un módulo, puedes usar la sintaxis from *<modulo> import <nombre_funcion>*, lo que te permite importar solo esas funciones y usarlas directamente.\n",
    "\n",
    "# Ejemplo"
   ]
  },
  {
   "cell_type": "code",
   "execution_count": null,
   "metadata": {},
   "outputs": [],
   "source": [
    "from tienda import saludar\n",
    "\n",
    "# Ahora puedes usar la función directamente\n",
    "saludo(\"Juan Esteban\")"
   ]
  },
  {
   "cell_type": "markdown",
   "metadata": {},
   "source": [
    "# Importar Todo de un Módulo\n",
    "Puedes importar todo el contenido de un módulo usando from <modulo> import *, pero esta práctica no es recomendada para módulos grandes, ya que puede causar confusión o conflictos con otros nombres en tu código.\n",
    "\n",
    "# Ejemplo"
   ]
  },
  {
   "cell_type": "code",
   "execution_count": null,
   "metadata": {},
   "outputs": [],
   "source": [
    "from tienda import *\n",
    "\n",
    "saludo(\"Juan Esteban\")\n",
    "despedida(\"Juan Esteban\")"
   ]
  },
  {
   "cell_type": "markdown",
   "metadata": {},
   "source": [
    "# Renombrar un Módulo o Función\n",
    "Puedes renombrar un módulo o una función durante la importación usando la palabra clave *as*. Esto es útil si el nombre del módulo es muy largo o si deseas evitar conflictos de nombres.\n",
    "\n",
    "# Ejemplo renombrar modulo"
   ]
  },
  {
   "cell_type": "code",
   "execution_count": null,
   "metadata": {},
   "outputs": [],
   "source": [
    "import tienda as shop\n",
    "\n",
    "shop.saludo()\n",
    "shop.despedida()\n",
    "\n",
    "# El modulo que antes se llamaba \"tienda\", ahora se llama \"shop\""
   ]
  },
  {
   "cell_type": "markdown",
   "metadata": {},
   "source": [
    "# Ejemplo de renombrar una función"
   ]
  },
  {
   "cell_type": "code",
   "execution_count": null,
   "metadata": {},
   "outputs": [],
   "source": [
    "from tienda import saludo as hi\n",
    "\n",
    "hi()\n",
    "\n",
    "# La función que antes se llamaba \"saludo\", ahora se llama \"hi\""
   ]
  }
 ],
 "metadata": {
  "kernelspec": {
   "display_name": "Python 3",
   "language": "python",
   "name": "python3"
  },
  "language_info": {
   "codemirror_mode": {
    "name": "ipython",
    "version": 3
   },
   "file_extension": ".py",
   "mimetype": "text/x-python",
   "name": "python",
   "nbconvert_exporter": "python",
   "pygments_lexer": "ipython3",
   "version": "3.12.5"
  }
 },
 "nbformat": 4,
 "nbformat_minor": 2
}
