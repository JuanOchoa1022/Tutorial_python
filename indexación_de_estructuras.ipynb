{
 "cells": [
  {
   "cell_type": "markdown",
   "metadata": {},
   "source": [
    "# Indexación de estructuras\n",
    "La indexación es una herramienta fundamental para acceder a elementos específicos dentro de las estructuras de datos en Python. Permite seleccionar elementos individuales o rangos de elementos, lo que es esencial para manipular y analizar datos. La indexación comienza desde 0, lo que significa que el primer elemento de una secuencia tiene índice 0, el segundo tiene índice 1, y así sucesivamente.\n",
    "\n",
    "Vamos a ver cómo funciona la indexación en algunas de las estructuras vistas anteriormente: listas, tuplas, cadenas de texto y algunos casos con diccionarios.\n",
    "\n",
    "# Indexación en listas\n",
    "las listas son estructuras de datos quevpermiten almacenar ordenadamente elementos. Imagina una lista como tu closet donde puedes guardar diferentes objetos y cada uno cuenta con su propio lugar."
   ]
  },
  {
   "cell_type": "code",
   "execution_count": null,
   "metadata": {},
   "outputs": [],
   "source": [
    "marcas_de_carros = ['mazda', 'toyota', 'bmw', 'mercedez', 'nissan', 'suzuki']\n",
    "\n",
    "# Acceder al primer elemento (índice 0)\n",
    "print(marcas_de_carros[0])  # Output: 'mazda'\n",
    "\n",
    "# Acceder al tercer elemento (índice 2)\n",
    "print(marcas_de_carros[2])  # Output: 'bmw'\n",
    "\n",
    "# Acceder al quinto elemento (índice 4)\n",
    "print(marcas_de_carros[4])  # Output: 'nissan'\n"
   ]
  },
  {
   "cell_type": "markdown",
   "metadata": {},
   "source": [
    "Como las listas son mutables, se pueden modificar los elementos utilizando el índice correspondiente."
   ]
  },
  {
   "cell_type": "code",
   "execution_count": null,
   "metadata": {},
   "outputs": [],
   "source": [
    "# Cambiar el tercer elemento\n",
    "marcas_de_carros[2] = 'chevrolet'\n",
    "print(marcas_de_carros)  # Output: ['mazda', 'toyota', 'chevrolet', 'mercedez', 'nissan', 'suzuki']"
   ]
  },
  {
   "cell_type": "markdown",
   "metadata": {},
   "source": [
    "# Indexación en Tuplas\n",
    "una tupla en Python es una estructura de datos similar a una lista, pero con una diferencia crucial: son inmutables. Esto significa que una vez creada, no puedes modificar sus elementos. Pero puedes acceder a los elementos de la misma forma que en las listas."
   ]
  },
  {
   "cell_type": "code",
   "execution_count": null,
   "metadata": {},
   "outputs": [],
   "source": [
    "marcas_de_carros = ('mazda', 'toyota', 'bmw', 'mercedez', 'nissan', 'suzuki')\n",
    "\n",
    "# Acceder al segundo elemento (índice 1)\n",
    "print(marcas_de_carros[1])  # Output: 'toyota'\n",
    "\n",
    "# Acceder al último elemento (índice 5)\n",
    "print(marcas_de_carros[5])  # Output: 'suzuki'\n",
    "\n"
   ]
  },
  {
   "cell_type": "markdown",
   "metadata": {},
   "source": [
    "# Cadena de texto\n",
    "Una cadena de texto (o simplemente string en inglés) en Python es una secuencia inmutable de caracteres. Esto significa que una vez que creas una cadena, no puedes cambiar los caracteres individuales que la componen. Se utilizan para representar texto, como nombres, frases, palabras, etc.\n",
    "\n",
    "Para definir una cadena, simplemente encierra el texto entre comillas simples (') o dobles (\")."
   ]
  },
  {
   "cell_type": "code",
   "execution_count": null,
   "metadata": {},
   "outputs": [],
   "source": [
    "cadena1 = \"Buenos dias\"\n",
    "cadena2 = 'Bienvenidos!'"
   ]
  },
  {
   "cell_type": "markdown",
   "metadata": {},
   "source": [
    "Las cadenas de texto son inmutables, pero tambien puedes acceder a un elemento especifico de estas"
   ]
  },
  {
   "cell_type": "code",
   "execution_count": null,
   "metadata": {},
   "outputs": [],
   "source": [
    "cadena1 = \"Buenos dias\"\n",
    "\n",
    "# Acceder al primer carácter (índice 0)\n",
    "print(cadena1[0])  # Output: 'B'\n",
    "\n",
    "# Acceder al tercer carácter (índice 2)\n",
    "print(cadena1[2])  # Output: 'e'\n",
    "\n",
    "# Acceder al cuarto carácter (índice 3)\n",
    "print(cadena1[3])  # Output: 'n'"
   ]
  },
  {
   "cell_type": "markdown",
   "metadata": {},
   "source": [
    "# Indexación con rebanadas (Slicing)\n",
    "El slicing es una técnica que te permite extraer secciones (rebanadas) de una secuencia, como cadenas, listas o tuplas. De una forma precisa para poder manipular estos tipos de datos.\n",
    "\n",
    "Se define como estructura[inicio:fin], donde inicio es el índice del primer elemento que quieres incluir y fin es el índice hasta donde quieres llegar (sin incluirlo).\n",
    "\n",
    "# Ejemplo en listas"
   ]
  },
  {
   "cell_type": "code",
   "execution_count": null,
   "metadata": {},
   "outputs": [],
   "source": [
    "marcas_de_carros= ['mazda', 'toyota', 'bmw', 'mercedez', 'nissan', 'suzuki']\n",
    "\n",
    "# Rebanada de los primeros tres elementos\n",
    "print(marcas_de_carros[0:3])  # Output: ['mazda', 'toyota', 'bmw']\n",
    "\n",
    "# Rebanada desde el segundo hasta el cuarto elemento\n",
    "print(marcas_de_carros[1:4])  # Output: ['toyota', 'bmw', 'mercedez']\n",
    "\n",
    "# Rebanada con un paso (cada segundo elemento)\n",
    "print(marcas_de_carros[0:6:2])  # Output: ['mazda', 'bmw', 'nissan']"
   ]
  },
  {
   "cell_type": "markdown",
   "metadata": {},
   "source": [
    "# Ejemplo en cadenas"
   ]
  },
  {
   "cell_type": "code",
   "execution_count": null,
   "metadata": {},
   "outputs": [],
   "source": [
    "cadena1 = \"Buenos dias\"\n",
    "\n",
    "# Rebanada de los primeros cinco caracteres\n",
    "print(cadena1[0:5])  # Output: 'Bueno'\n",
    "\n",
    "# Rebanada de cada segundo carácter\n",
    "print(cadena1[0::2])  # Output: 'Beo is'\n"
   ]
  },
  {
   "cell_type": "markdown",
   "metadata": {},
   "source": [
    "# Indexación en diccionarios\n",
    "Imagina un diccionario tradicional, donde cada palabra (clave) tiene una definición asociada (valor). En Python, un diccionario es una estructura de datos que almacena pares clave-valor. Cada clave debe ser única y se utiliza para acceder al valor asociado.\n"
   ]
  },
  {
   "cell_type": "code",
   "execution_count": null,
   "metadata": {},
   "outputs": [],
   "source": [
    "diccionario = {\n",
    "    \"nombre\": \"Juan Esteban\",\n",
    "    \"edad\": 21,\n",
    "    \"ciudad\": \"Medellin\"\n",
    "}\n",
    "\n",
    "# Acceder a un valor utilizando su clave\n",
    "print(diccionario[\"nombre\"])  # Output: 'Juan Esteban'\n",
    "\n",
    "# Cambiar el valor asociado a una clave\n",
    "diccionario[\"edad\"] = 20\n",
    "print(diccionario)  # Output: {'nombre': 'Juan Esteban', 'edad': 20, 'ciudad': 'Medellin'}"
   ]
  },
  {
   "cell_type": "markdown",
   "metadata": {},
   "source": [
    "Intentar acceder a una clave que no existe generará un error. Para evitarlo, puedes usar el método get(), que retorna None (o un valor por defecto) si la clave no existe."
   ]
  },
  {
   "cell_type": "code",
   "execution_count": null,
   "metadata": {},
   "outputs": [],
   "source": [
    "# Usando get() para evitar errores\n",
    "valor = diccionario.get(\"ciudad\", \"carrera\")\n",
    "print(valor)  # Output: 'Medellin'"
   ]
  },
  {
   "cell_type": "markdown",
   "metadata": {},
   "source": []
  }
 ],
 "metadata": {
  "kernelspec": {
   "display_name": "Python 3",
   "language": "python",
   "name": "python3"
  },
  "language_info": {
   "codemirror_mode": {
    "name": "ipython",
    "version": 3
   },
   "file_extension": ".py",
   "mimetype": "text/x-python",
   "name": "python",
   "nbconvert_exporter": "python",
   "pygments_lexer": "ipython3",
   "version": "3.12.5"
  }
 },
 "nbformat": 4,
 "nbformat_minor": 2
}
