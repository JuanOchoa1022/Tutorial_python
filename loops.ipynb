{
 "cells": [
  {
   "cell_type": "markdown",
   "metadata": {},
   "source": [
    "# Loops  \n",
    "Los loops en Python son herramientas fundamentales para iterar sobre secuencias de datos (listas, tuplas, cadenas, etc.) y realizar acciones repetitivas.\n",
    "\n",
    "# Bucle (*for*)\n",
    "El bucle for en Python itera sobre una secuencia (puede ser una lista, tupla, cadena, rango, diccionario, etc.) y ejecuta un bloque de código por cada elemento de esa secuencia."
   ]
  },
  {
   "cell_type": "code",
   "execution_count": null,
   "metadata": {},
   "outputs": [],
   "source": [
    "marcas_de_carros = ['mazda', 'toyota', 'bmw', 'mercedez', 'nissan', 'suzuki']\n",
    "\n",
    "for marcas in marcas_de_carros:\n",
    "    print(marcas)"
   ]
  },
  {
   "cell_type": "markdown",
   "metadata": {},
   "source": [
    "#  Iterar sobre un rango de números (*range()*)\n",
    "La función range() es muy útil cuando quieres iterar sobre una secuencia de números.\n",
    "\n",
    "range(inicio, fin, paso):\n",
    "- inicio: el número desde el cual comenzar.\n",
    "- fin: el número hasta el cual iterar.\n",
    "- paso: el incremento entre valores.\n",
    "\n",
    "# Ejemplo "
   ]
  },
  {
   "cell_type": "code",
   "execution_count": null,
   "metadata": {},
   "outputs": [],
   "source": [
    "for rango1 in range(8):  # Del 0 al 8 (el 8 no está incluido)\n",
    "    print(rango1)"
   ]
  },
  {
   "cell_type": "markdown",
   "metadata": {},
   "source": [
    "# Ejemplo 2 "
   ]
  },
  {
   "cell_type": "code",
   "execution_count": null,
   "metadata": {},
   "outputs": [],
   "source": [
    "for rango2 in range(4, 24, 4):  # Del 4 al 24, incrementando de a 4\n",
    "    print(rango2)"
   ]
  },
  {
   "cell_type": "markdown",
   "metadata": {},
   "source": [
    "# Bucle en diccionarios\n",
    "Los diccionarios tienen un comportamiento especial en los bucles for, ya que puedes iterar sobre las claves, los valores o los pares clave-valor.\n",
    "\n",
    "# Ejemplo"
   ]
  },
  {
   "cell_type": "code",
   "execution_count": null,
   "metadata": {},
   "outputs": [],
   "source": [
    "mis_datos = {\"nombre\": \"Juan\", \"edad\": 21, \"ciudad\": \"Medellin\"}\n",
    "\n",
    "for bucle in mis_datos:\n",
    "    print(bucle)"
   ]
  },
  {
   "cell_type": "markdown",
   "metadata": {},
   "source": [
    "# Ejemplo 2"
   ]
  },
  {
   "cell_type": "code",
   "execution_count": null,
   "metadata": {},
   "outputs": [],
   "source": [
    "for clave, valor in mis_datos.items():\n",
    "    print(f\"{clave}: {valor}\")"
   ]
  },
  {
   "cell_type": "markdown",
   "metadata": {},
   "source": [
    "# break y continue \n",
    "- break: Se utiliza para salir del bucle antes de que termine su iteración completa.\n",
    "- continue: Salta a la siguiente iteración sin ejecutar el resto del código en esa iteración.\n",
    "\n",
    "# Ejemplo break"
   ]
  },
  {
   "cell_type": "code",
   "execution_count": null,
   "metadata": {},
   "outputs": [],
   "source": [
    "for numero in range(10):\n",
    "    if numero == 8:\n",
    "        break  # Sale del bucle cuando numero es 8\n",
    "    print(numero)"
   ]
  },
  {
   "cell_type": "markdown",
   "metadata": {},
   "source": [
    "# Ejemplo continue"
   ]
  },
  {
   "cell_type": "code",
   "execution_count": null,
   "metadata": {},
   "outputs": [],
   "source": [
    "for numero in range(10):\n",
    "    if numero == 5:\n",
    "        continue  # Salta la iteración cuando numero es 5\n",
    "    print(numero)"
   ]
  },
  {
   "cell_type": "markdown",
   "metadata": {},
   "source": [
    "# List Comprehension \n",
    "en Python son una forma concisa y elegante de crear nuevas listas a partir de otras secuencias (como listas, tuplas, etc.) o rangos. \n",
    "\n",
    "Imagina que tienes una lista de números y quieres crear una nueva lista con el cuadrado de cada número. En lugar de escribir un bucle for tradicional, puedes usar una comprensión de lista.\n",
    "\n",
    "# Ejemplo"
   ]
  },
  {
   "cell_type": "code",
   "execution_count": null,
   "metadata": {},
   "outputs": [],
   "source": [
    "lista = [1, 2, 3, 4, 5, 6, 7, 8, 9 ,10]\n",
    "lista_cuadrada = [n**2 for n in lista]\n",
    "print(lista_cuadrada)"
   ]
  },
  {
   "cell_type": "markdown",
   "metadata": {},
   "source": [
    "# List comprehension con condición\n",
    "Puedes agregar una condición en una list comprehension para filtrar elementos.\n",
    "\n",
    "# Ejemplo "
   ]
  },
  {
   "cell_type": "code",
   "execution_count": null,
   "metadata": {},
   "outputs": [],
   "source": [
    "lista = [1, 2, 3, 4, 5, 6, 7, 8, 9, 10]\n",
    "pares = [n for n in lista if n % 2 == 0] # La condición n % 2 == 0 filtra solo los números pares de la lista numeros.\n",
    "print(pares)"
   ]
  }
 ],
 "metadata": {
  "kernelspec": {
   "display_name": "Python 3",
   "language": "python",
   "name": "python3"
  },
  "language_info": {
   "codemirror_mode": {
    "name": "ipython",
    "version": 3
   },
   "file_extension": ".py",
   "mimetype": "text/x-python",
   "name": "python",
   "nbconvert_exporter": "python",
   "pygments_lexer": "ipython3",
   "version": "3.12.5"
  }
 },
 "nbformat": 4,
 "nbformat_minor": 2
}
