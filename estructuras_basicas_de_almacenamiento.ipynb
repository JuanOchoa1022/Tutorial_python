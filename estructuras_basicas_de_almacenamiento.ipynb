{
 "cells": [
  {
   "cell_type": "markdown",
   "metadata": {},
   "source": [
    "# Estructuras basicas de almacenamiento\n",
    "Las estructuras de datos en Python son herramientas fundamentales para organizar y manipular información. Python proporciona varias estructuras de datos integradas para almacenar colecciones de elementos. Las más utilizadas son listas, tuplas, conjuntos y diccionarios. \n",
    "\n",
    "# Listas(list)\n",
    "Son colecciones ordenadas y mutables de elementos. Se definen con corchetes []. las cuales poseen las ssiguientes caracteristicas:\n",
    "\n",
    "- Pueden contener elementos de diferentes tipos.\n",
    "- El orden de los elementos se mantiene.\n",
    "- Se pueden modificar, agregar o eliminar elementos.\n",
    "\n",
    "# Metodos utiles\n",
    "- append(elemento): Agrega un elemento al final de la lista.\n",
    "- remove(elemento): Elimina la primera aparición de un elemento.\n",
    "- insert(indice, elemento): Inserta un elemento en una posición específica.\n",
    "- sort(): Ordena la lista en orden ascendente.\n"
   ]
  },
  {
   "cell_type": "code",
   "execution_count": null,
   "metadata": {},
   "outputs": [],
   "source": [
    "# Crear una lista\n",
    "numeros_de_jugadores = [22, 10, 1, 7, 9, 15]\n",
    "\n",
    "# Acceder a un elemento por su índice\n",
    "print(numeros_de_jugadores[2])  # Output: 1\n",
    "\n",
    "# Modificar un elemento\n",
    "numeros_de_jugadores[0] = 3\n",
    "print(numeros_de_jugadores)  # Output: [3, 10, 1, 7, 9, 15]\n",
    "\n",
    "# Agregar un elemento\n",
    "numeros_de_jugadores.append(6)\n",
    "print(numeros_de_jugadores)  # Output: [22, 10, 1, 7, 9, 15, 6]\n",
    "\n",
    "# Eliminar un elemento\n",
    "numeros_de_jugadores.remove(22)\n",
    "print(numeros_de_jugadores)  # Output: [10, 1, 7, 9, 15]"
   ]
  },
  {
   "cell_type": "markdown",
   "metadata": {},
   "source": [
    "# Tuplas(tuple)\n",
    "Son colecciones ordenadas e inmutables de elementos. Se definen con paréntesis (). Cuenta con las siguientes caracteristicas:\n",
    "- Una vez creada, no se pueden modificar sus elementos.\n",
    "- Se utilizan cuando se necesita almacenar datos que no deben cambiar."
   ]
  },
  {
   "cell_type": "code",
   "execution_count": null,
   "metadata": {},
   "outputs": [],
   "source": [
    "# Crear una tupla\n",
    "mi_tupla = (1, 2, 3, 4, 5)\n",
    "\n",
    "# Acceder a un elemento por su índice\n",
    "print(mi_tupla[2])  # Output: 3\n",
    "\n",
    "# Intentar modificar un elemento (genera un error)\n",
    "# mi_tupla[0] = 10  # TypeError: 'tuple' object does not support item assignment\n",
    "\n",
    "# Crear una tupla con un solo elemento (necesita una coma)\n",
    "tupla_un_elemento = (1,)\n",
    "print(tupla_un_elemento)  # Output: (1,)"
   ]
  },
  {
   "cell_type": "markdown",
   "metadata": {},
   "source": [
    "# Conjuntos(set)\n",
    "Son colecciones desordenadas y no indexadas de elementos únicos. Se definen con llaves {}. Cuales son las caracteristicas: \n",
    "- Los elementos deben ser únicos.\n",
    "- El orden no está garantizado.\n",
    "- Se utilizan para realizar operaciones como unión, intersección y diferencia.\n",
    "\n",
    "# Metodos utiles\n",
    "- union(): Retorna un conjunto que es la unión de dos conjuntos.\n",
    "- intersection(): Retorna un conjunto con los elementos comunes entre dos conjuntos.\n",
    "- difference(): Retorna un conjunto con los elementos que están en el primer conjunto pero no en el segundo."
   ]
  },
  {
   "cell_type": "code",
   "execution_count": null,
   "metadata": {},
   "outputs": [],
   "source": [
    "# Crear un conjunto\n",
    "conjunto = {1, 2, 3, 4, 5}\n",
    "\n",
    "# Agregar un elemento\n",
    "conjunto.add(6)\n",
    "print(conjunto)  # Output: {1, 2, 3, 4, 5, 6}\n",
    "\n",
    "# Intentar agregar un elemento duplicado\n",
    "conjunto.add(3)\n",
    "print(conjunto)  # Output: {1, 2, 3, 4, 5, 6} (no se repite el 3)\n",
    "\n",
    "# Eliminar un elemento\n",
    "conjunto.remove(2)\n",
    "print(conjunto)  # Output: {1, 3, 4, 5, 6}\n",
    "\n",
    "# Aplicación de metodos\n",
    "\n",
    "conjunto_1 = {1, 2, 3}\n",
    "conjunto_2 = {3, 4, 5}\n",
    "\n",
    "union = conjunto_1.union(conjunto_2)\n",
    "print(union)  # Output: {1, 2, 3, 4, 5}\n",
    "\n",
    "interseccion = conjunto_1.intersection(conjunto_2)\n",
    "print(interseccion)  # Output: {3}"
   ]
  },
  {
   "cell_type": "markdown",
   "metadata": {},
   "source": [
    "# Diccionarios(dict)\n",
    "Los diccionarios son colecciones no ordenadas de pares clave-valor. Se definen usando llaves {} y permiten acceder a los valores a través de sus claves. Cuenta con las siguientes caracteristicas:\n",
    "- Mutable: Se puede cambiar su contenido (agregar, modificar o eliminar pares clave-valor).\n",
    "- No ordenado: Hasta Python 3.6 no se garantizaba el orden, pero desde Python 3.7 el orden de inserción se mantiene.\n",
    "- Claves únicas: No pueden tener claves duplicadas.\n",
    "\n",
    "# Metodos utiles\n",
    "- keys(): Retorna todas las claves del diccionario.\n",
    "- values(): Retorna todos los valores del diccionario.\n",
    "- items(): Retorna una lista de tuplas (clave, valor)."
   ]
  },
  {
   "cell_type": "code",
   "execution_count": null,
   "metadata": {},
   "outputs": [],
   "source": [
    "# Crear un diccionario\n",
    "diccionario = {\n",
    "    \"nombre\": \"Juan Esteban\",\n",
    "    \"edad\": 21,\n",
    "    \"ciudad\": \"Medellin\"\n",
    "}\n",
    "\n",
    "# Acceder a un valor por su clave\n",
    "print(diccionario[\"nombre\"])  # Output: Juan Esteban \n",
    "\n",
    "# Modificar un valor\n",
    "diccionario[\"edad\"] = 21\n",
    "print(diccionario)  # Output: {'nombre': 'Juan Esteban', 'edad': 21, 'ciudad': 'Medellin'}\n",
    "\n",
    "# Agregar un nuevo par clave-valor\n",
    "diccionario[\"carrera\"] = \"Economía\"\n",
    "print(diccionario)  # Output: {'nombre': 'Juan Esteban', 'edad': 21, 'ciudad': 'Medellin', 'carrera': 'Economía'}\n",
    "\n",
    "# Eliminar un par clave-valor\n",
    "del diccionario[\"ciudad\"]\n",
    "print(diccionario)  # Output: {'nombre': 'Juan Esteban', 'edad': 21, 'carrera': 'Economía'}\n",
    "\n",
    "# Obtener claves, valores y pares clave-valor\n",
    "print(diccionario.keys())  # Output: dict_keys(['nombre', 'edad', 'carrera'])\n",
    "print(diccionario.values())  # Output: dict_values(['Juan Esteban', 21, 'Economía'])\n",
    "print(diccionario.items())  # Output: dict_items([('nombre', 'Juan Esteban'), ('edad', 21), ('carrera', 'Ecnomía')])\n"
   ]
  }
 ],
 "metadata": {
  "kernelspec": {
   "display_name": "Python 3",
   "language": "python",
   "name": "python3"
  },
  "language_info": {
   "name": "python",
   "version": "3.12.5"
  }
 },
 "nbformat": 4,
 "nbformat_minor": 2
}
