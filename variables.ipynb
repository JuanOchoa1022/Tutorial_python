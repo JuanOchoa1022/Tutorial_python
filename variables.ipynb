{
 "cells": [
  {
   "cell_type": "markdown",
   "metadata": {},
   "source": [
    "# Variables \n",
    "En Python las variables son como etiquetas en las que asignamos diferentes valores para poder usarlos y manipularlos más fácilmente dentro de nuestros programas. Imagina que son cajas donde guardamos información, como números, palabras o incluso listas de datos. Al darle un nombre a cada caja, podemos referirnos a su contenido de manera sencilla y realizar operaciones con él.\n",
    "\n",
    "# Asignación de variables \n",
    "La asignación de una variable se hace utilizando el signo =."
   ]
  },
  {
   "cell_type": "code",
   "execution_count": null,
   "metadata": {},
   "outputs": [],
   "source": [
    "x = 15  # Asigna el valor 10 a la variable 'x'\n",
    "nombre = \"Juan\"  # Asigna una cadena de texto a la variable 'nombre'"
   ]
  },
  {
   "cell_type": "markdown",
   "metadata": {},
   "source": [
    "# Nombres de Variables\n",
    "Python tiene ciertas reglas para los nombres de variables:\n",
    "\n",
    "- Deben comenzar con una letra (a-z, A-Z) o un guion bajo (_).\n",
    "- Pueden contener letras, números y guion bajo, pero no pueden comenzar con un número."
   ]
  },
  {
   "cell_type": "code",
   "execution_count": null,
   "metadata": {},
   "outputs": [],
   "source": [
    "edad = 21\n",
    "nombre_completo = \"Juan Esteban Ochoa\"\n",
    "_Altura = 1.70"
   ]
  },
  {
   "cell_type": "markdown",
   "metadata": {},
   "source": [
    "# Buena practicas \n",
    "\n",
    "- Evita nombres genéricos: En lugar de x, y, a, b, utiliza nombres que indiquen el propósito de la variable. Por ejemplo, edad, nombre_usuario, precio_total.\n",
    "- Ser claro: El nombre debe reflejar el contenido de la variable de manera directa. Si almacenas una lista de productos, un nombre como lista_productos es más claro que items.\n",
    "- Utiliza palabras en inglés: Es una práctica común en la programación utilizar palabras en inglés para los nombres de variables, ya que es el idioma más utilizado en la documentación y comunidades de desarrollo.\n",
    "- Snake case: En Python, se recomienda utilizar el estilo \"snake case\", es decir, separar las palabras con guiones bajos y escribir todo en minúsculas. Por ejemplo: numero_de_intentos, nombre_completo.\n",
    "- Camel case: Aunque menos común en Python, también se puede utilizar el \"camel case\", donde la primera letra de cada palabra (excepto la primera) va en mayúscula. Por ejemplo: numeroDeIntentos, nombreCompleto.\n",
    "- Manten un estilo uniforme: Si eliges un estilo de nomenclatura, úsalo de manera consistente en todo tu código.\n",
    "- Evita abreviaturas: A menos que sean muy conocidas y utilizadas comúnmente en el contexto de tu código.\n",
    "- Nombres específicos: Adapta los nombres de las variables al contexto en el que se utilizan. Por ejemplo: en un programa que calcula áreas, puedes usar variables como base, altura, area."
   ]
  },
  {
   "cell_type": "code",
   "execution_count": null,
   "metadata": {},
   "outputs": [],
   "source": [
    "precio_producto = 500  # El nombre es descriptivo"
   ]
  },
  {
   "cell_type": "markdown",
   "metadata": {},
   "source": [
    "# Tipos de datos\n",
    "Python soporta varios tipos de datos comunes. Algunos de los más usados son:\n",
    "\n",
    "- Números enteros (int): Representan números enteros, positivos o negativos.\n",
    "- Números flotantes (float): Representan números con decimales.\n",
    "- Cadenas de texto (str): Secuencias de caracteres, delimitadas por comillas simples o dobles.\n",
    "- Booleanos (bool): Representan valores lógicos, como True o False."
   ]
  },
  {
   "cell_type": "code",
   "execution_count": null,
   "metadata": {},
   "outputs": [],
   "source": [
    "edad = 21  # int\n",
    "longitud = 50.57  # float\n",
    "apellido = \"Ochoa\"  # str\n",
    "comprometido = True  # bool"
   ]
  },
  {
   "cell_type": "markdown",
   "metadata": {},
   "source": [
    "# Conversión de tipos de datos\n",
    "La conversión de tipos de datos en Python es una habilidad fundamental para manipular información de manera efectiva. Python permite convertir entre tipos de datos utilizando funciones como int(), float(), str(), entre otras."
   ]
  },
  {
   "cell_type": "code",
   "execution_count": null,
   "metadata": {},
   "outputs": [],
   "source": [
    "# Convertir de int a float\n",
    "numero_entero = 5\n",
    "numero_flotante = float(numero_entero)\n",
    "print(numero_flotante)  # Output: 5.0\n",
    "\n",
    "# Convertir de float a int\n",
    "valor_flotante = 8.75\n",
    "valor_entero = int(valor_flotante)\n",
    "print(valor_entero)  # Output: 8 (pierde la parte decimal)\n",
    "\n",
    "# Convertir de int a str\n",
    "edad = 25\n",
    "edad_texto = str(edad)\n",
    "print(edad_texto)  # Output: '25'"
   ]
  }
 ],
 "metadata": {
  "language_info": {
   "name": "python"
  }
 },
 "nbformat": 4,
 "nbformat_minor": 2
}
