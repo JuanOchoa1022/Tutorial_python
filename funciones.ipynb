{
 "cells": [
  {
   "cell_type": "markdown",
   "metadata": {},
   "source": [
    "# Funciones\n",
    "Las funciones en Python son como pequeños bloques de código reutilizables que realizan tareas específicas. Son una herramienta fundamental para organizar tu código, hacerlo más legible y evitar la repetición de código.\n",
    "\n",
    "Una función es un conjunto de instrucciones que se agrupan bajo un nombre específico. Puedes definir tus propias funciones para realizar tareas personalizadas, y luego llamar a esas funciones tantas veces como necesites en tu programa.\n",
    "\n",
    "# Definir una función\n",
    "En Python, las funciones se definen con la palabra clave *def*, seguida del nombre de la función y los parámetros (si los tiene). El código de la función debe estar indentado dentro del bloque de la función.\n",
    "\n",
    "# Ejemplo de una función simple\n",
    "\n",
    "Supongamos que somos una tienda y queremos automatizar nuestras funciones en un chat. Empezaremos por el saludo y la bienvenida"
   ]
  },
  {
   "cell_type": "code",
   "execution_count": 1,
   "metadata": {},
   "outputs": [
    {
     "name": "stdout",
     "output_type": "stream",
     "text": [
      "Hola! Bienvenido a nuestra tienda\n"
     ]
    }
   ],
   "source": [
    "def saludo():\n",
    "    print(\"Hola! Bienvenido a nuestra tienda\")\n",
    "    \n",
    "# Llamada a la función\n",
    "saludo()"
   ]
  },
  {
   "cell_type": "markdown",
   "metadata": {},
   "source": [
    "# Ejemplo de una función con parametros\n",
    "Ahora supongamos que la persona proporciono su nombre y queremos añadirle su nombre al saludo."
   ]
  },
  {
   "cell_type": "code",
   "execution_count": 3,
   "metadata": {},
   "outputs": [
    {
     "name": "stdout",
     "output_type": "stream",
     "text": [
      "¡Hola Juan Esteban! Bienvenido a nuestra tienda\n"
     ]
    }
   ],
   "source": [
    "def saludo (nombre):\n",
    "    print(f\"¡Hola {nombre}! Bienvenido a nuestra tienda\")\n",
    "\n",
    "# Llamada a la función\n",
    "saludo(\"Juan Esteban\")\n"
   ]
  },
  {
   "cell_type": "markdown",
   "metadata": {},
   "source": [
    "# Función con múltiples parámetros\n",
    "\n",
    "# Ejemplo\n",
    "Ahora vamos a automatizar el carrito de nuestra tienda, en la cual le dira cual es el total de los productos que quiere comprar."
   ]
  },
  {
   "cell_type": "code",
   "execution_count": 7,
   "metadata": {},
   "outputs": [
    {
     "name": "stdout",
     "output_type": "stream",
     "text": [
      "El total es: 180000\n"
     ]
    }
   ],
   "source": [
    "camisa = 80000\n",
    "buzo = 100000\n",
    "\n",
    "def sumar(camisa, buzo):\n",
    "    resultado = camisa + buzo\n",
    "    return resultado\n",
    "\n",
    "# Llamada a la función\n",
    "suma = sumar(camisa, buzo)\n",
    "print(f\"El total es: {suma}\")\n"
   ]
  },
  {
   "cell_type": "markdown",
   "metadata": {},
   "source": [
    "# Parámetros con valores predeterminados\n",
    "Puedes asignar valores predeterminados a los parámetros. Si no se pasa un valor para ese parámetro al llamar a la función, se usará el valor predeterminado.\n",
    "\n",
    "# Ejemplo \n",
    "Si un cliente no proporciona su nombre y no hay manera de saberlo, le pondremos un valor predeterminado."
   ]
  },
  {
   "cell_type": "code",
   "execution_count": 8,
   "metadata": {},
   "outputs": [
    {
     "name": "stdout",
     "output_type": "stream",
     "text": [
      "Hola cliente! Bienvenido a nuestra tienda\n",
      "Hola Juan Esteban! Bienvenido a nuestra tienda\n"
     ]
    }
   ],
   "source": [
    "def saludo(nombre=\"cliente\"):\n",
    "    print(f\"Hola {nombre}! Bienvenido a nuestra tienda\")\n",
    "\n",
    "# Llamada sin argumento\n",
    "saludo()\n",
    "\n",
    "# Llamada con argumento\n",
    "saludo(\"Juan Esteban\")\n"
   ]
  },
  {
   "cell_type": "markdown",
   "metadata": {},
   "source": [
    "# Funciones con número arbitrario de argumentos (**args*)\n",
    "En algunos casos, no sabes cuántos argumentos se van a pasar a una función. Python permite usar *args para recibir un número arbitrario de argumentos como una tupla.\n",
    "\n",
    "# Ejemplo \n",
    "Con la suma de algunos productos, queremos automatizar el precio de algunos conjuntos."
   ]
  },
  {
   "cell_type": "code",
   "execution_count": 10,
   "metadata": {},
   "outputs": [
    {
     "name": "stdout",
     "output_type": "stream",
     "text": [
      "El conjunto tiene un valor total de: 450000\n"
     ]
    }
   ],
   "source": [
    "camisa = 80000\n",
    "buzo = 100000\n",
    "pantalon = 90000\n",
    "zapatos = 180000\n",
    "\n",
    "conjunto1 = (camisa, buzo, pantalon, zapatos)\n",
    "\n",
    "def sumar_todos(*conjunto1):\n",
    "    return sum(conjunto1)\n",
    "\n",
    "resultado = sumar_todos(camisa, buzo, pantalon, zapatos)\n",
    "print(f\"El conjunto tiene un valor total de: {resultado}\")\n"
   ]
  },
  {
   "cell_type": "markdown",
   "metadata": {},
   "source": [
    "# Funciones con argumentos nombrados arbitrarios *(kwargs)*\n",
    "Si quieres recibir un número arbitrario de argumentos nombrados (en forma de diccionario), puedes usar **kwargs.\n",
    "\n",
    "# Ejemplo \n",
    "Con esta funcion automatizaremos los datos del cliente en caso tal de que decida volver a comprar en la tienda."
   ]
  },
  {
   "cell_type": "code",
   "execution_count": 14,
   "metadata": {},
   "outputs": [
    {
     "name": "stdout",
     "output_type": "stream",
     "text": [
      "nombre: Juan Esteban\n",
      "edad: 21\n",
      "ciudad: Medellín\n"
     ]
    }
   ],
   "source": [
    "def imprimir_datos(**datos):\n",
    "    for clave, valor in datos.items():\n",
    "        print(f\"{clave}: {valor}\")\n",
    "\n",
    "imprimir_datos(nombre=\"Juan Esteban\", edad=21, ciudad=\"Medellín\")"
   ]
  }
 ],
 "metadata": {
  "kernelspec": {
   "display_name": "Python 3",
   "language": "python",
   "name": "python3"
  },
  "language_info": {
   "codemirror_mode": {
    "name": "ipython",
    "version": 3
   },
   "file_extension": ".py",
   "mimetype": "text/x-python",
   "name": "python",
   "nbconvert_exporter": "python",
   "pygments_lexer": "ipython3",
   "version": "3.12.5"
  }
 },
 "nbformat": 4,
 "nbformat_minor": 2
}
